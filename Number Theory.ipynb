{
 "cells": [
  {
   "cell_type": "code",
   "execution_count": 5,
   "metadata": {},
   "outputs": [
    {
     "name": "stdout",
     "output_type": "stream",
     "text": [
      "First we calculate the GCD, and Bezout Identities of 1212987 and 187213 with the Euclidean Algorithm\n",
      "                                1, 0\n",
      "                                0, 1\n",
      "1212987=6x187213+89709          1, -6\n",
      "187213=2x89709+7795             -2, 13\n",
      "89709=11x7795+3964              23, -149\n",
      "7795=1x3964+3831                -25, 162\n",
      "3964=1x3831+133                 48, -311\n",
      "3831=28x133+107                 -1369, 8870\n",
      "133=1x107+26                    1417, -9181\n",
      "107=4x26+3                      -7037, 45594\n",
      "26=8x3+2                        57713, -373933\n",
      "3=1x2+1                         -64750, 419527\n",
      "2=2x1+0                         187213, -1212987\n",
      "Therefore GCD(1212987,187213) = 1 = -64750x1212987 + 419527x187213\n",
      "Thus 1212987x+187213y=1912 is solveable because 1|1912\n",
      "As 1912 = 1912x1 = -123802000x1212987 + 802135624x187213 we have the particular solution (x,y) = (-123802000, 802135624)\n"
     ]
    },
    {
     "data": {
      "text/plain": [
       "1912"
      ]
     },
     "execution_count": 5,
     "metadata": {},
     "output_type": "execute_result"
    }
   ],
   "source": [
    "import NumberTheory\n",
    "X=1212987\n",
    "Y=187213\n",
    "NumberTheory.linear_diophantine(X,Y,1912,\"Yes\")[0]*X+NumberTheory.linear_diophantine(X,Y,1912)[1]*Y"
   ]
  }
 ],
 "metadata": {
  "interpreter": {
   "hash": "40e2eb60aa1a11f2fe87c70e9a895dc0d64f6821c8fd8cbe344969fe515db466"
  },
  "kernelspec": {
   "display_name": "Python 3.9.5 ('base')",
   "language": "python",
   "name": "python3"
  },
  "language_info": {
   "codemirror_mode": {
    "name": "ipython",
    "version": 3
   },
   "file_extension": ".py",
   "mimetype": "text/x-python",
   "name": "python",
   "nbconvert_exporter": "python",
   "pygments_lexer": "ipython3",
   "version": "3.9.5"
  },
  "orig_nbformat": 4
 },
 "nbformat": 4,
 "nbformat_minor": 2
}
