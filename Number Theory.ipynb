{
 "cells": [
  {
   "cell_type": "code",
   "execution_count": 10,
   "metadata": {},
   "outputs": [
    {
     "name": "stdout",
     "output_type": "stream",
     "text": [
      "Here are the first 30 Pythagorean Triples\n",
      "[3, 4, 5]\n",
      "[5, 12, 13]\n",
      "[6, 8, 10]\n",
      "[7, 24, 25]\n",
      "[8, 15, 17]\n",
      "[9, 40, 41]\n",
      "[10, 24, 26]\n",
      "[11, 60, 61]\n",
      "[12, 16, 20]\n",
      "[12, 35, 37]\n",
      "[13, 84, 85]\n",
      "[14, 48, 50]\n",
      "[15, 112, 113]\n",
      "[16, 30, 34]\n",
      "[16, 63, 65]\n",
      "[17, 144, 145]\n",
      "[18, 80, 82]\n",
      "[20, 21, 29]\n",
      "[20, 48, 52]\n",
      "[24, 32, 40]\n",
      "[24, 70, 74]\n",
      "[27, 36, 45]\n",
      "[28, 45, 53]\n",
      "[32, 60, 68]\n",
      "[33, 56, 65]\n",
      "[36, 77, 85]\n",
      "[39, 80, 89]\n",
      "[40, 42, 58]\n",
      "[48, 55, 73]\n",
      "[48, 64, 80]\n"
     ]
    }
   ],
   "source": [
    "import NumberTheory\n",
    "NumberTheory.create_N_pythagorean_triples(30)\n",
    "NumberTheory.inefficient_create_N_pythagorean_triples(30)"
   ]
  },
  {
   "cell_type": "markdown",
   "metadata": {},
   "source": []
  }
 ],
 "metadata": {
  "interpreter": {
   "hash": "40e2eb60aa1a11f2fe87c70e9a895dc0d64f6821c8fd8cbe344969fe515db466"
  },
  "kernelspec": {
   "display_name": "Python 3.9.5 ('base')",
   "language": "python",
   "name": "python3"
  },
  "language_info": {
   "codemirror_mode": {
    "name": "ipython",
    "version": 3
   },
   "file_extension": ".py",
   "mimetype": "text/x-python",
   "name": "python",
   "nbconvert_exporter": "python",
   "pygments_lexer": "ipython3",
   "version": "3.9.5"
  },
  "orig_nbformat": 4
 },
 "nbformat": 4,
 "nbformat_minor": 2
}
