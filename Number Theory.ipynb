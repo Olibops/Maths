{
 "cells": [
  {
   "cell_type": "code",
   "execution_count": 16,
   "metadata": {},
   "outputs": [
    {
     "name": "stdout",
     "output_type": "stream",
     "text": [
      "To solve an modular congruence of the form 213X = 19432 mod 291 note it can be rephrased as the linear Diophantine equation:\n",
      "213X + -291Y = 19432\n",
      "which can be solved with the following method:\n",
      "First we calculate the GCD, and Bezout Identities of 213 and 291 with the Euclidean Algorithm\n",
      "                      1, 0\n",
      "                      0, 1\n",
      "291=1x213+78          1, -1\n",
      "213=2x78+57           -2, 3\n",
      "78=1x57+21            3, -4\n",
      "57=2x21+15            -8, 11\n",
      "21=1x15+6             11, -15\n",
      "15=2x6+3              -30, 41\n",
      "6=2x3+0               71, -97\n",
      "Therefore GCD(213,-291) = 3 = 30x-291 + 41x213\n",
      "Thus 213x+-291y=19432 is not solveable because 3∤19432\n"
     ]
    }
   ],
   "source": [
    "import NumberTheory\n",
    "\n",
    "def solve_linear_congruence(a=1,c=1,n=1,Show_Working=True): #aX=c mod n\n",
    "    if Show_Working==True:\n",
    "        print(\"To solve an modular congruence of the form \" + str(a) + \"X = \" + str(c) + \" mod \" + str(n) + \" note it can be rephrased as the linear Diophantine equation:\")\n",
    "        print(str(a) + \"X + \" + str(-n) + \"Y = \" + str(c) )\n",
    "        print(\"which can be solved with the following method:\")\n",
    "    \n",
    "    X=NumberTheory.linear_diophantine(a,-n,c,Show_Working)\n",
    "    if X==False:\n",
    "        print(\"Therefore \"+ str(a) + \"X = \" + str(c) + \" mod \" + str(n) + \" is not solveable\")\n",
    "\n",
    "solve_linear_congruence(213,19432,291)"
   ]
  }
 ],
 "metadata": {
  "interpreter": {
   "hash": "40e2eb60aa1a11f2fe87c70e9a895dc0d64f6821c8fd8cbe344969fe515db466"
  },
  "kernelspec": {
   "display_name": "Python 3.9.5 ('base')",
   "language": "python",
   "name": "python3"
  },
  "language_info": {
   "codemirror_mode": {
    "name": "ipython",
    "version": 3
   },
   "file_extension": ".py",
   "mimetype": "text/x-python",
   "name": "python",
   "nbconvert_exporter": "python",
   "pygments_lexer": "ipython3",
   "version": "3.9.5"
  },
  "orig_nbformat": 4
 },
 "nbformat": 4,
 "nbformat_minor": 2
}
