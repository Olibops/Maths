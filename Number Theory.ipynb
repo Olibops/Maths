{
 "cells": [
  {
   "cell_type": "code",
   "execution_count": 1,
   "metadata": {},
   "outputs": [],
   "source": [
    "import NumberTheory\n",
    "\n",
    "def extended_euclidean_algorithm(N,M):\n",
    "    pass\n",
    "\n",
    "\n",
    "\n",
    "\n",
    "\n",
    "\n",
    "\n",
    "\n",
    "\n",
    "\n",
    "\n",
    "\n",
    "\n",
    "\n",
    "\n",
    "\n",
    "\n",
    "\n",
    "\n",
    "\n",
    "\n",
    "def linear_diophantine(a=1,b=1,c=1,Show_Working=\"Yes\"): #Not finished\n",
    "    #Find x,y such that ax+by=c\n",
    "    if Show_Working==\"Yes\":\n",
    "        print(\"First we calculate the GCD of \" + str(a) + \" and \" + str(b) + \" with the Euclidean Algorithm\")\n",
    "        GCD = NumberTheory.euclidean_algorithm(a,b,\"Yes\")\n",
    "    else:\n",
    "        GCD = NumberTheory.euclidean_algorithm(a,b)\n",
    "    Solveable = c % GCD\n",
    "    if Solveable == 0:\n",
    "        if Show_Working==\"Yes\":\n",
    "            print(\"Therefore \" + str(a) + \"x\" + \"+\" + str(b) + \"y=\" + str(c) + \" is solveable because \" + str(GCD) + \"|\" + str(c) )\n",
    "        else:\n",
    "            print(str(a) + \"x\" + \"+\" + str(b) + \"y=\" + str(c) + \" is solveable because \" + str(GCD) + \"|\" + str(c) )\n",
    "    else:\n",
    "        if Show_Working==\"Yes\":\n",
    "            print(\"Therefore \" + str(a) + \"x\" + \"+\" + str(b) + \"y=\" + str(c) + \" is not solveable because \" + str(GCD) + \"∤\" + str(c) )\n",
    "        else:\n",
    "            print(str(a) + \"x\" + \"+\" + str(b) + \"y=\" + str(c) + \" is not solveable because \" + str(GCD) + \"∤\" + str(c) )\n"
   ]
  },
  {
   "cell_type": "markdown",
   "metadata": {},
   "source": []
  }
 ],
 "metadata": {
  "interpreter": {
   "hash": "40e2eb60aa1a11f2fe87c70e9a895dc0d64f6821c8fd8cbe344969fe515db466"
  },
  "kernelspec": {
   "display_name": "Python 3.9.5 ('base')",
   "language": "python",
   "name": "python3"
  },
  "language_info": {
   "codemirror_mode": {
    "name": "ipython",
    "version": 3
   },
   "file_extension": ".py",
   "mimetype": "text/x-python",
   "name": "python",
   "nbconvert_exporter": "python",
   "pygments_lexer": "ipython3",
   "version": "3.9.5"
  },
  "orig_nbformat": 4
 },
 "nbformat": 4,
 "nbformat_minor": 2
}
