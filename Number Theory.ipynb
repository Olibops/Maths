{
 "cells": [
  {
   "cell_type": "code",
   "execution_count": 75,
   "metadata": {},
   "outputs": [
    {
     "name": "stdout",
     "output_type": "stream",
     "text": [
      "111111111111111 111111\n",
      "55555555500000 111111\n",
      "868055499132 111111\n",
      "108506881836 111111\n",
      "13563304674 111111\n",
      "3390770613 111111\n",
      "1695329751 111111\n",
      "847609320 111111\n",
      "52920027 111111\n",
      "26404458 111111\n",
      "6545559 111111\n",
      "3217224 111111\n",
      "145521 111111\n",
      "17205 111111\n",
      "46953 17205\n",
      "14874 17205\n",
      "4884 7437\n",
      "3108 1221\n",
      "222 777\n",
      "333 111\n",
      "111 111\n",
      "222\n"
     ]
    },
    {
     "data": {
      "text/plain": [
       "222"
      ]
     },
     "execution_count": 75,
     "metadata": {},
     "output_type": "execute_result"
    }
   ],
   "source": [
    "import NumberTheory\n",
    "\n",
    "import NumberTheory\n",
    "'''\n",
    "def test_recur(n):\n",
    "    counter=0\n",
    "    \n",
    "    def recur(n):\n",
    "        global counter\n",
    "        counter+=1\n",
    "        if n==0:\n",
    "            return -1\n",
    "        else:\n",
    "            return recur(n-1)    \n",
    "'''\n",
    "\n",
    "\n",
    "\n",
    "def function(X=1,Y=1,Show_Working=False):\n",
    "    \n",
    "    counter = 0\n",
    "    \n",
    "    def steins_GCD_method(X,Y,Show_Working=False):\n",
    "        global counter\n",
    "        X, Y = abs(X), abs(Y)\n",
    "\n",
    "        if X == 0 or Y == 0:\n",
    "            print(max(X,Y))\n",
    "            breakpoint\n",
    "\n",
    "        while X % 2 ==0 and Y % 2 ==0:\n",
    "            counter+=1\n",
    "            X, Y = X // 2, Y // 2\n",
    "            print(X,Y)\n",
    "            if X==1 or Y==1:\n",
    "                print(max(X,Y))\n",
    "                print(counter)\n",
    "                break\n",
    "\n",
    "        while X % 2 ==0:\n",
    "            X = X // 2\n",
    "            \n",
    "        while Y % 2 ==0:\n",
    "            Y = Y // 2\n",
    "            \n",
    "        X, Y = abs(X-Y)//2, min(X,Y)\n",
    "        print(X,Y)\n",
    "        \n",
    "        if X==Y or X==0 or Y==0:\n",
    "            print(max(X,Y)*(2**counter))\n",
    "            counter=0\n",
    "        else:\n",
    "            steins_GCD_method(X,Y)\n",
    "    \n",
    "    steins_GCD_method(X,Y,Show_Working)\n",
    "    \n",
    "    \n",
    "    \n",
    "    \n",
    "    \n",
    "\n",
    "function(222222222222222,222222,False)\n",
    "\n",
    "NumberTheory.euclidean_algorithm(222222222222222,222222)"
   ]
  }
 ],
 "metadata": {
  "interpreter": {
   "hash": "40e2eb60aa1a11f2fe87c70e9a895dc0d64f6821c8fd8cbe344969fe515db466"
  },
  "kernelspec": {
   "display_name": "Python 3.9.5 ('base')",
   "language": "python",
   "name": "python3"
  },
  "language_info": {
   "codemirror_mode": {
    "name": "ipython",
    "version": 3
   },
   "file_extension": ".py",
   "mimetype": "text/x-python",
   "name": "python",
   "nbconvert_exporter": "python",
   "pygments_lexer": "ipython3",
   "version": "3.9.5"
  },
  "orig_nbformat": 4
 },
 "nbformat": 4,
 "nbformat_minor": 2
}
